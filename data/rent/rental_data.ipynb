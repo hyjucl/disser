{
 "cells": [
  {
   "cell_type": "code",
   "execution_count": 11,
   "id": "c9bb2761-9927-4bab-90c6-6340cb5f18bf",
   "metadata": {},
   "outputs": [
    {
     "name": "stdout",
     "output_type": "stream",
     "text": [
      "Requirement already satisfied: lxml in /opt/conda/envs/sds2021/lib/python3.9/site-packages (4.9.1)\n",
      "Collecting bs4\n",
      "  Downloading bs4-0.0.1.tar.gz (1.1 kB)\n",
      "Requirement already satisfied: beautifulsoup4 in /opt/conda/envs/sds2021/lib/python3.9/site-packages (from bs4) (4.9.3)\n",
      "Requirement already satisfied: soupsieve>1.2 in /opt/conda/envs/sds2021/lib/python3.9/site-packages (from beautifulsoup4->bs4) (2.0.1)\n",
      "Building wheels for collected packages: bs4\n",
      "  Building wheel for bs4 (setup.py) ... \u001b[?25ldone\n",
      "\u001b[?25h  Created wheel for bs4: filename=bs4-0.0.1-py3-none-any.whl size=1273 sha256=f2edf4ebf0e9f7056a625337a0041ce4863d01b4d0139935638cf62d49536c35\n",
      "  Stored in directory: /home/jovyan/.cache/pip/wheels/73/2b/cb/099980278a0c9a3e57ff1a89875ec07bfa0b6fcbebb9a8cad3\n",
      "Successfully built bs4\n",
      "Installing collected packages: bs4\n",
      "Successfully installed bs4-0.0.1\n",
      "Collecting html5lib\n",
      "  Downloading html5lib-1.1-py2.py3-none-any.whl (112 kB)\n",
      "\u001b[K     |████████████████████████████████| 112 kB 13.7 MB/s eta 0:00:01\n",
      "\u001b[?25hRequirement already satisfied: six>=1.9 in /opt/conda/envs/sds2021/lib/python3.9/site-packages (from html5lib) (1.16.0)\n",
      "Requirement already satisfied: webencodings in /opt/conda/envs/sds2021/lib/python3.9/site-packages (from html5lib) (0.5.1)\n",
      "Installing collected packages: html5lib\n",
      "Successfully installed html5lib-1.1\n"
     ]
    }
   ],
   "source": [
    "!pip install lxml\n",
    "!pip install bs4\n",
    "!pip install html5lib"
   ]
  },
  {
   "cell_type": "code",
   "execution_count": 12,
   "id": "9a00634f-78a5-4e76-867c-7cfa97ace5ed",
   "metadata": {},
   "outputs": [],
   "source": [
    "from bs4 import BeautifulSoup  \n",
    "import pandas as pd\n",
    "from tqdm import tqdm\n",
    "import math\n",
    "import requests  \n",
    "import lxml\n",
    "import re\n",
    "import time"
   ]
  },
  {
   "cell_type": "code",
   "execution_count": 13,
   "id": "f7202806-8efa-499a-9ae7-718b827a8a88",
   "metadata": {},
   "outputs": [],
   "source": [
    "area_dic = {\n",
    "    '静安区':'jingan',\n",
    "    '徐汇区':'xuhui',\n",
    "    '黄埔区':'huangpu',\n",
    "    '长宁区':'changning',\n",
    "    '普陀区':'putuo',\n",
    "    '浦东新区':'pudong',\n",
    "    '宝山区':'baoshan',\n",
    "    '虹口区':'hongkou',\n",
    "    '杨浦区':'yangpu',\n",
    "    '闵行区':'minhang',\n",
    "    '金山区':'jinshan',\n",
    "    '嘉定区':'jiading',\n",
    "    '崇明区':'chongming',\n",
    "    '奉贤':'fengxian',\n",
    "    '松江':'songjiang',\n",
    "    '青浦':'qingpu'\n",
    "            }"
   ]
  },
  {
   "cell_type": "code",
   "execution_count": 14,
   "id": "f24de61f-13cb-49de-a6ab-c63c1de32d99",
   "metadata": {},
   "outputs": [],
   "source": [
    "# 加个header以示尊敬\n",
    "headers = {'User-Agent': 'Mozilla/5.0 (Windows NT 10.0; Win64; x64) AppleWebKit/537.36 (KHTML, like Gecko) Chrome/91.0.4472.124 Safari/537.36',\n",
    "           'Referer': 'https://sh.lianjia.com/zufang/'}\n",
    "\n",
    "# 新建一个会话\n",
    "sess = requests.session()\n",
    "sess.get('https://sh.lianjia.com/zufang/', headers=headers)\n",
    "\n",
    "# url示例：https://sz.lianjia.com/zufang/luohuqu/pg2/\n",
    "url = 'https://sh.lianjia.com/zufang/{}/pg{}/'"
   ]
  },
  {
   "cell_type": "code",
   "execution_count": 15,
   "id": "8eed1560-63ec-42d4-82a6-f9029628f671",
   "metadata": {},
   "outputs": [],
   "source": [
    "# 当正则表达式匹配失败时，返回默认值（errif）\n",
    "def re_match(re_pattern, string, errif=None):\n",
    "    try:\n",
    "        return re.findall(re_pattern, string)[0].strip()\n",
    "    except IndexError:\n",
    "        return errif"
   ]
  },
  {
   "cell_type": "code",
   "execution_count": 17,
   "id": "676fb014-0df8-4a7a-99be-41685cba9751",
   "metadata": {},
   "outputs": [
    {
     "name": "stdout",
     "output_type": "stream",
     "text": [
      "🏠静安区: 出租房源共计「2276」套\n"
     ]
    },
    {
     "name": "stderr",
     "output_type": "stream",
     "text": [
      "静安区: 100%|██████████| 76/76 [04:31<00:00,  3.57s/it]\n"
     ]
    },
    {
     "name": "stdout",
     "output_type": "stream",
     "text": [
      "🏠徐汇区: 出租房源共计「2181」套\n"
     ]
    },
    {
     "name": "stderr",
     "output_type": "stream",
     "text": [
      "徐汇区: 100%|██████████| 73/73 [04:08<00:00,  3.40s/it]\n"
     ]
    },
    {
     "name": "stdout",
     "output_type": "stream",
     "text": [
      "🏠黄埔区: 出租房源共计「1179」套\n"
     ]
    },
    {
     "name": "stderr",
     "output_type": "stream",
     "text": [
      "黄埔区: 100%|██████████| 40/40 [01:54<00:00,  2.87s/it]\n"
     ]
    },
    {
     "name": "stdout",
     "output_type": "stream",
     "text": [
      "🏠长宁区: 出租房源共计「1718」套\n"
     ]
    },
    {
     "name": "stderr",
     "output_type": "stream",
     "text": [
      "长宁区: 100%|██████████| 58/58 [03:06<00:00,  3.21s/it]\n"
     ]
    },
    {
     "name": "stdout",
     "output_type": "stream",
     "text": [
      "🏠普陀区: 出租房源共计「1608」套\n"
     ]
    },
    {
     "name": "stderr",
     "output_type": "stream",
     "text": [
      "普陀区: 100%|██████████| 54/54 [02:49<00:00,  3.14s/it]\n"
     ]
    },
    {
     "name": "stdout",
     "output_type": "stream",
     "text": [
      "🏠浦东新区: 出租房源共计「5514」套\n"
     ]
    },
    {
     "name": "stderr",
     "output_type": "stream",
     "text": [
      "浦东新区: 100%|██████████| 100/100 [05:10<00:00,  3.11s/it]\n"
     ]
    },
    {
     "name": "stdout",
     "output_type": "stream",
     "text": [
      "🏠宝山区: 出租房源共计「1686」套\n"
     ]
    },
    {
     "name": "stderr",
     "output_type": "stream",
     "text": [
      "宝山区: 100%|██████████| 57/57 [03:07<00:00,  3.29s/it]\n"
     ]
    },
    {
     "name": "stdout",
     "output_type": "stream",
     "text": [
      "🏠虹口区: 出租房源共计「1025」套\n"
     ]
    },
    {
     "name": "stderr",
     "output_type": "stream",
     "text": [
      "虹口区: 100%|██████████| 35/35 [01:47<00:00,  3.07s/it]\n"
     ]
    },
    {
     "name": "stdout",
     "output_type": "stream",
     "text": [
      "🏠杨浦区: 出租房源共计「1406」套\n"
     ]
    },
    {
     "name": "stderr",
     "output_type": "stream",
     "text": [
      "杨浦区: 100%|██████████| 47/47 [02:16<00:00,  2.89s/it]\n"
     ]
    },
    {
     "name": "stdout",
     "output_type": "stream",
     "text": [
      "🏠闵行区: 出租房源共计「3212」套\n"
     ]
    },
    {
     "name": "stderr",
     "output_type": "stream",
     "text": [
      "闵行区: 100%|██████████| 100/100 [04:53<00:00,  2.94s/it]\n"
     ]
    },
    {
     "name": "stdout",
     "output_type": "stream",
     "text": [
      "🏠金山区: 出租房源共计「71」套\n"
     ]
    },
    {
     "name": "stderr",
     "output_type": "stream",
     "text": [
      "金山区: 100%|██████████| 3/3 [00:07<00:00,  2.46s/it]\n"
     ]
    },
    {
     "name": "stdout",
     "output_type": "stream",
     "text": [
      "🏠嘉定区: 出租房源共计「976」套\n"
     ]
    },
    {
     "name": "stderr",
     "output_type": "stream",
     "text": [
      "嘉定区: 100%|██████████| 33/33 [01:28<00:00,  2.69s/it]\n"
     ]
    },
    {
     "name": "stdout",
     "output_type": "stream",
     "text": [
      "🏠崇明区: 出租房源共计「26」套\n"
     ]
    },
    {
     "name": "stderr",
     "output_type": "stream",
     "text": [
      "崇明区: 100%|██████████| 1/1 [00:01<00:00,  1.95s/it]\n"
     ]
    },
    {
     "name": "stdout",
     "output_type": "stream",
     "text": [
      "🏠奉贤: 出租房源共计「488」套\n"
     ]
    },
    {
     "name": "stderr",
     "output_type": "stream",
     "text": [
      "奉贤: 100%|██████████| 17/17 [00:53<00:00,  3.15s/it]\n"
     ]
    },
    {
     "name": "stdout",
     "output_type": "stream",
     "text": [
      "🏠松江: 出租房源共计「1675」套\n"
     ]
    },
    {
     "name": "stderr",
     "output_type": "stream",
     "text": [
      "松江: 100%|██████████| 56/56 [02:38<00:00,  2.83s/it]\n"
     ]
    },
    {
     "name": "stdout",
     "output_type": "stream",
     "text": [
      "🏠青浦: 出租房源共计「1298」套\n"
     ]
    },
    {
     "name": "stderr",
     "output_type": "stream",
     "text": [
      "青浦: 100%|██████████| 44/44 [02:14<00:00,  3.06s/it]\n"
     ]
    }
   ],
   "source": [
    "# 新建一个DataFrame存储信息\n",
    "data = pd.DataFrame()\n",
    "\n",
    "for key_, value_ in area_dic.items():\n",
    "    # 获取该行政区下房源记录数\n",
    "    start_url = 'https://sh.lianjia.com/zufang/{}/'.format(value_)\n",
    "    html = sess.get(start_url).text\n",
    "    house_num = re.findall('已为您找到 <span class=\"content__title--hl\">(.*?)</span>', html)[0].strip()\n",
    "    print('🏠{}: 出租房源共计「{}」套'.format(key_, house_num))\n",
    "    time.sleep(1)\n",
    "    # 页面限制 每个行政区只能获取最多100页共计3000条房源信息\n",
    "    total_page = int(math.ceil(min(3000, int(house_num)) / 30.0))\n",
    "    for i in tqdm(range(total_page), desc=key_):\n",
    "        html = sess.get(url.format(value_, i+1)).text\n",
    "        soup = BeautifulSoup(html, 'html.parser')\n",
    "        info_collect = soup.find_all(class_=\"content__list--item\")\n",
    "        \n",
    "        for info in info_collect:\n",
    "            info_dic = {}\n",
    "            # 行政区\n",
    "            info_dic['area'] = key_\n",
    "\n",
    "            # 房源的标题\n",
    "            info_dic['title'] = re_match('title=\"(.*?)\"', str(info))\n",
    "            # 位置\n",
    "            info_dic['position'] = re_match('</a>-<a.*?target=\"_blank\">(.*?)</a>', str(info))\n",
    "            #小区\n",
    "            info_dic['community'] = re_match('</a>-<a.*?target=\"_blank\">.*?</a>.*?title=\"(.*?)\"', str(info))\n",
    "            # 总价\n",
    "            info_dic['total_price'] = float(re_match('class=\"content__list--item-price\"><em>(.*?)</em> 元/月</span>', str(info)))\n",
    "            #面积\n",
    "            info_dic['size'] = re_match('<i>/</i>\\n(.*?)㎡', str(info))\n",
    "\n",
    "                \n",
    "            # 存入DataFrame\n",
    "            if data.empty:\n",
    "                data = pd.DataFrame(info_dic,index=[0])\n",
    "            else:\n",
    "                data = data.append(info_dic,ignore_index=True)"
   ]
  },
  {
   "cell_type": "code",
   "execution_count": 18,
   "id": "199f5221-77cc-44f2-907e-021f5c7e32db",
   "metadata": {},
   "outputs": [
    {
     "data": {
      "text/plain": [
       "(23629, 6)"
      ]
     },
     "execution_count": 18,
     "metadata": {},
     "output_type": "execute_result"
    }
   ],
   "source": [
    "data.shape"
   ]
  },
  {
   "cell_type": "code",
   "execution_count": 19,
   "id": "1cbb846d-1f95-4d2c-bb3e-d38f3a0cf582",
   "metadata": {},
   "outputs": [
    {
     "data": {
      "text/html": [
       "<div>\n",
       "<style scoped>\n",
       "    .dataframe tbody tr th:only-of-type {\n",
       "        vertical-align: middle;\n",
       "    }\n",
       "\n",
       "    .dataframe tbody tr th {\n",
       "        vertical-align: top;\n",
       "    }\n",
       "\n",
       "    .dataframe thead th {\n",
       "        text-align: right;\n",
       "    }\n",
       "</style>\n",
       "<table border=\"1\" class=\"dataframe\">\n",
       "  <thead>\n",
       "    <tr style=\"text-align: right;\">\n",
       "      <th></th>\n",
       "      <th>area</th>\n",
       "      <th>title</th>\n",
       "      <th>position</th>\n",
       "      <th>community</th>\n",
       "      <th>total_price</th>\n",
       "      <th>size</th>\n",
       "    </tr>\n",
       "  </thead>\n",
       "  <tbody>\n",
       "    <tr>\n",
       "      <th>17545</th>\n",
       "      <td>闵行区</td>\n",
       "      <td>整租·东亚梧桐公馆 4室2厅 南</td>\n",
       "      <td>颛桥</td>\n",
       "      <td>东亚梧桐公馆</td>\n",
       "      <td>30000.0</td>\n",
       "      <td>582.54</td>\n",
       "    </tr>\n",
       "    <tr>\n",
       "      <th>20931</th>\n",
       "      <td>松江</td>\n",
       "      <td>整租·华亭新家百合苑 2室1厅 南/北</td>\n",
       "      <td>松江老城</td>\n",
       "      <td>华亭新家百合苑</td>\n",
       "      <td>3200.0</td>\n",
       "      <td>60.22</td>\n",
       "    </tr>\n",
       "    <tr>\n",
       "      <th>5902</th>\n",
       "      <td>长宁区</td>\n",
       "      <td>整租·森晟世洋国际广场 1室1厅 南</td>\n",
       "      <td>西郊</td>\n",
       "      <td>森晟世洋国际广场</td>\n",
       "      <td>4500.0</td>\n",
       "      <td>33.70</td>\n",
       "    </tr>\n",
       "    <tr>\n",
       "      <th>12732</th>\n",
       "      <td>宝山区</td>\n",
       "      <td>整租·央玺 3室2厅 南</td>\n",
       "      <td>共富</td>\n",
       "      <td>央玺</td>\n",
       "      <td>8200.0</td>\n",
       "      <td>84.53</td>\n",
       "    </tr>\n",
       "    <tr>\n",
       "      <th>6830</th>\n",
       "      <td>长宁区</td>\n",
       "      <td>整租·南辉小区 1室1厅 南</td>\n",
       "      <td>中山公园</td>\n",
       "      <td>南辉小区</td>\n",
       "      <td>6800.0</td>\n",
       "      <td>35.83</td>\n",
       "    </tr>\n",
       "    <tr>\n",
       "      <th>2826</th>\n",
       "      <td>徐汇区</td>\n",
       "      <td>整租·尚海湾豪庭(二期） 2室2厅 南</td>\n",
       "      <td>徐汇滨江</td>\n",
       "      <td>尚海湾豪庭(二期）</td>\n",
       "      <td>38000.0</td>\n",
       "      <td>119.37</td>\n",
       "    </tr>\n",
       "    <tr>\n",
       "      <th>1644</th>\n",
       "      <td>静安区</td>\n",
       "      <td>整租·卓悦居 2室1厅 南/北</td>\n",
       "      <td>不夜城</td>\n",
       "      <td>卓悦居</td>\n",
       "      <td>14000.0</td>\n",
       "      <td>93.47</td>\n",
       "    </tr>\n",
       "    <tr>\n",
       "      <th>19382</th>\n",
       "      <td>嘉定区</td>\n",
       "      <td>整租·新城金郡（商住） 2室2厅 南</td>\n",
       "      <td>嘉定新城</td>\n",
       "      <td>新城金郡（商住）</td>\n",
       "      <td>3200.0</td>\n",
       "      <td>39.76</td>\n",
       "    </tr>\n",
       "    <tr>\n",
       "      <th>20313</th>\n",
       "      <td>奉贤</td>\n",
       "      <td>整租·绿地香颂(奉贤)(公寓) 1室1厅 南</td>\n",
       "      <td>海湾</td>\n",
       "      <td>绿地香颂(奉贤)(公寓)</td>\n",
       "      <td>1900.0</td>\n",
       "      <td>62.37</td>\n",
       "    </tr>\n",
       "    <tr>\n",
       "      <th>9699</th>\n",
       "      <td>浦东新区</td>\n",
       "      <td>整租·泾东小区 1室1厅 南</td>\n",
       "      <td>洋泾</td>\n",
       "      <td>泾东小区</td>\n",
       "      <td>5200.0</td>\n",
       "      <td>41.63</td>\n",
       "    </tr>\n",
       "    <tr>\n",
       "      <th>11513</th>\n",
       "      <td>浦东新区</td>\n",
       "      <td>整租·羽北小区 2室1厅 南</td>\n",
       "      <td>洋泾</td>\n",
       "      <td>羽北小区</td>\n",
       "      <td>6700.0</td>\n",
       "      <td>58.68</td>\n",
       "    </tr>\n",
       "    <tr>\n",
       "      <th>767</th>\n",
       "      <td>静安区</td>\n",
       "      <td>整租·南星小区 1室1厅 北</td>\n",
       "      <td>西藏北路</td>\n",
       "      <td>南星小区</td>\n",
       "      <td>7500.0</td>\n",
       "      <td>58.42</td>\n",
       "    </tr>\n",
       "    <tr>\n",
       "      <th>12711</th>\n",
       "      <td>宝山区</td>\n",
       "      <td>整租·新顾村大家园D区 2室2厅 南/北</td>\n",
       "      <td>顾村</td>\n",
       "      <td>新顾村大家园D区</td>\n",
       "      <td>5200.0</td>\n",
       "      <td>93.80</td>\n",
       "    </tr>\n",
       "    <tr>\n",
       "      <th>7236</th>\n",
       "      <td>长宁区</td>\n",
       "      <td>整租·御翠豪庭 1室1厅 南</td>\n",
       "      <td>古北</td>\n",
       "      <td>御翠豪庭</td>\n",
       "      <td>16000.0</td>\n",
       "      <td>67.90</td>\n",
       "    </tr>\n",
       "    <tr>\n",
       "      <th>2044</th>\n",
       "      <td>静安区</td>\n",
       "      <td>整租·和源名城 2室1厅 南</td>\n",
       "      <td>彭浦</td>\n",
       "      <td>和源名城</td>\n",
       "      <td>6200.0</td>\n",
       "      <td>75.74</td>\n",
       "    </tr>\n",
       "    <tr>\n",
       "      <th>14775</th>\n",
       "      <td>杨浦区</td>\n",
       "      <td>整租·鞍山五村 2室1厅 南/北</td>\n",
       "      <td>鞍山</td>\n",
       "      <td>鞍山五村</td>\n",
       "      <td>7800.0</td>\n",
       "      <td>50.62</td>\n",
       "    </tr>\n",
       "    <tr>\n",
       "      <th>19223</th>\n",
       "      <td>嘉定区</td>\n",
       "      <td>整租·嘉利坊 2室1厅 南</td>\n",
       "      <td>丰庄</td>\n",
       "      <td>嘉利坊</td>\n",
       "      <td>5300.0</td>\n",
       "      <td>60.96</td>\n",
       "    </tr>\n",
       "    <tr>\n",
       "      <th>7693</th>\n",
       "      <td>普陀区</td>\n",
       "      <td>整租·同德公寓 2室1厅 东/西</td>\n",
       "      <td>长寿路</td>\n",
       "      <td>同德公寓</td>\n",
       "      <td>14000.0</td>\n",
       "      <td>113.37</td>\n",
       "    </tr>\n",
       "    <tr>\n",
       "      <th>10440</th>\n",
       "      <td>浦东新区</td>\n",
       "      <td>整租·中洲华庭 3室1厅 西南/西</td>\n",
       "      <td>新场</td>\n",
       "      <td>中洲华庭</td>\n",
       "      <td>3600.0</td>\n",
       "      <td>116.21</td>\n",
       "    </tr>\n",
       "    <tr>\n",
       "      <th>19957</th>\n",
       "      <td>嘉定区</td>\n",
       "      <td>整租·日月光伯爵公馆 1室1厅 南</td>\n",
       "      <td>菊园新区</td>\n",
       "      <td>日月光伯爵公馆</td>\n",
       "      <td>3000.0</td>\n",
       "      <td>46.52</td>\n",
       "    </tr>\n",
       "  </tbody>\n",
       "</table>\n",
       "</div>"
      ],
      "text/plain": [
       "       area                   title position     community  total_price  \\\n",
       "17545   闵行区        整租·东亚梧桐公馆 4室2厅 南       颛桥        东亚梧桐公馆      30000.0   \n",
       "20931    松江     整租·华亭新家百合苑 2室1厅 南/北     松江老城       华亭新家百合苑       3200.0   \n",
       "5902    长宁区      整租·森晟世洋国际广场 1室1厅 南       西郊      森晟世洋国际广场       4500.0   \n",
       "12732   宝山区            整租·央玺 3室2厅 南       共富            央玺       8200.0   \n",
       "6830    长宁区          整租·南辉小区 1室1厅 南     中山公园          南辉小区       6800.0   \n",
       "2826    徐汇区     整租·尚海湾豪庭(二期） 2室2厅 南     徐汇滨江     尚海湾豪庭(二期）      38000.0   \n",
       "1644    静安区         整租·卓悦居 2室1厅 南/北      不夜城           卓悦居      14000.0   \n",
       "19382   嘉定区      整租·新城金郡（商住） 2室2厅 南     嘉定新城      新城金郡（商住）       3200.0   \n",
       "20313    奉贤  整租·绿地香颂(奉贤)(公寓) 1室1厅 南       海湾  绿地香颂(奉贤)(公寓)       1900.0   \n",
       "9699   浦东新区          整租·泾东小区 1室1厅 南       洋泾          泾东小区       5200.0   \n",
       "11513  浦东新区          整租·羽北小区 2室1厅 南       洋泾          羽北小区       6700.0   \n",
       "767     静安区          整租·南星小区 1室1厅 北     西藏北路          南星小区       7500.0   \n",
       "12711   宝山区    整租·新顾村大家园D区 2室2厅 南/北       顾村      新顾村大家园D区       5200.0   \n",
       "7236    长宁区          整租·御翠豪庭 1室1厅 南       古北          御翠豪庭      16000.0   \n",
       "2044    静安区          整租·和源名城 2室1厅 南       彭浦          和源名城       6200.0   \n",
       "14775   杨浦区        整租·鞍山五村 2室1厅 南/北       鞍山          鞍山五村       7800.0   \n",
       "19223   嘉定区           整租·嘉利坊 2室1厅 南       丰庄           嘉利坊       5300.0   \n",
       "7693    普陀区        整租·同德公寓 2室1厅 东/西      长寿路          同德公寓      14000.0   \n",
       "10440  浦东新区       整租·中洲华庭 3室1厅 西南/西       新场          中洲华庭       3600.0   \n",
       "19957   嘉定区       整租·日月光伯爵公馆 1室1厅 南     菊园新区       日月光伯爵公馆       3000.0   \n",
       "\n",
       "         size  \n",
       "17545  582.54  \n",
       "20931   60.22  \n",
       "5902    33.70  \n",
       "12732   84.53  \n",
       "6830    35.83  \n",
       "2826   119.37  \n",
       "1644    93.47  \n",
       "19382   39.76  \n",
       "20313   62.37  \n",
       "9699    41.63  \n",
       "11513   58.68  \n",
       "767     58.42  \n",
       "12711   93.80  \n",
       "7236    67.90  \n",
       "2044    75.74  \n",
       "14775   50.62  \n",
       "19223   60.96  \n",
       "7693   113.37  \n",
       "10440  116.21  \n",
       "19957   46.52  "
      ]
     },
     "execution_count": 19,
     "metadata": {},
     "output_type": "execute_result"
    }
   ],
   "source": [
    "data.sample(20)"
   ]
  },
  {
   "cell_type": "code",
   "execution_count": 20,
   "id": "6c48cc4a-0db7-4dd8-a783-f30fb824dc49",
   "metadata": {},
   "outputs": [
    {
     "name": "stdout",
     "output_type": "stream",
     "text": [
      "Requirement already satisfied: openpyxl in /opt/conda/envs/sds2021/lib/python3.9/site-packages (3.0.7)\n",
      "Requirement already satisfied: et-xmlfile in /opt/conda/envs/sds2021/lib/python3.9/site-packages (from openpyxl) (1.0.1)\n"
     ]
    }
   ],
   "source": [
    "!pip install openpyxl"
   ]
  },
  {
   "cell_type": "code",
   "execution_count": 21,
   "id": "f34e10b9-7401-4be4-9836-46e52af44060",
   "metadata": {},
   "outputs": [],
   "source": [
    "data.to_csv('lianjia_house_leasing_22.csv',index = 0)"
   ]
  },
  {
   "cell_type": "code",
   "execution_count": null,
   "id": "8177f948-d759-434f-b1b1-de454758a862",
   "metadata": {},
   "outputs": [],
   "source": []
  }
 ],
 "metadata": {
  "kernelspec": {
   "display_name": "Python 3 (ipykernel)",
   "language": "python",
   "name": "python3"
  },
  "language_info": {
   "codemirror_mode": {
    "name": "ipython",
    "version": 3
   },
   "file_extension": ".py",
   "mimetype": "text/x-python",
   "name": "python",
   "nbconvert_exporter": "python",
   "pygments_lexer": "ipython3",
   "version": "3.9.6"
  }
 },
 "nbformat": 4,
 "nbformat_minor": 5
}
